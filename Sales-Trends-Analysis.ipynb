{
 "cells": [
  {
   "cell_type": "code",
   "execution_count": 1,
   "id": "a2189667-6b14-4af2-b087-1ec0a42e885a",
   "metadata": {},
   "outputs": [],
   "source": [
    "#Step 1: Import Libraries"
   ]
  },
  {
   "cell_type": "code",
   "execution_count": 16,
   "id": "1831cce4-fcf4-4ef2-a66c-d6d950775130",
   "metadata": {},
   "outputs": [],
   "source": [
    "import streamlit as st\n",
    "import pandas as pd\n",
    "import numpy as np\n",
    "import scipy.stats as stats \n",
    "#import matplotlib\n",
    "#matplotlib.use('TkAgg')\n",
    "import matplotlib.pyplot as plt\n",
    "import seaborn as sns"
   ]
  },
  {
   "cell_type": "code",
   "execution_count": 17,
   "id": "144b9353-035d-4a52-a2cb-7ab4a10c3ed2",
   "metadata": {},
   "outputs": [],
   "source": [
    "#Step 2: Create the Dataset"
   ]
  },
  {
   "cell_type": "code",
   "execution_count": 18,
   "id": "b40d3614-8929-4282-a16d-a2b26f3aef80",
   "metadata": {},
   "outputs": [
    {
     "name": "stdout",
     "output_type": "stream",
     "text": [
      "Sales Data:\n",
      "    product_id product_name     category  units_sold  sale_date\n",
      "0            1    Product 1         Home          25 2023-01-01\n",
      "1            2    Product 2       Sports          15 2023-01-02\n",
      "2            3    Product 3  Electronics          17 2023-01-03\n",
      "3            4    Product 4         Home          19 2023-01-04\n",
      "4            5    Product 5         Home          21 2023-01-05\n",
      "5            6    Product 6       Sports          17 2023-01-06\n",
      "6            7    Product 7  Electronics          19 2023-01-07\n",
      "7            8    Product 8  Electronics          16 2023-01-08\n",
      "8            9    Product 9         Home          21 2023-01-09\n",
      "9           10   Product 10     Clothing          21 2023-01-10\n",
      "10          11   Product 11         Home          17 2023-01-11\n",
      "11          12   Product 12         Home          22 2023-01-12\n",
      "12          13   Product 13         Home          14 2023-01-13\n",
      "13          14   Product 14         Home          17 2023-01-14\n",
      "14          15   Product 15       Sports          17 2023-01-15\n",
      "15          16   Product 16  Electronics          21 2023-01-16\n",
      "16          17   Product 17       Sports          21 2023-01-17\n",
      "17          18   Product 18       Sports          13 2023-01-18\n",
      "18          19   Product 19       Sports          18 2023-01-19\n",
      "19          20   Product 20         Home          25 2023-01-20\n"
     ]
    }
   ],
   "source": [
    "# Set the random seed for reproducibility\n",
    "np.random.seed(42)\n",
    "\n",
    "# Create a synthetic dataset\n",
    "data = {\n",
    "    'product_id': range(1, 21),\n",
    "    'product_name': [f'Product {i}' for i in range(1, 21)],\n",
    "    'category': np.random.choice(['Electronics', 'Clothing', 'Home', 'Sports'], 20),\n",
    "    'units_sold': np.random.poisson(lam=20, size=20),  # Poisson distribution for sales\n",
    "    'sale_date': pd.date_range(start='2023-01-01', periods=20, freq='D')\n",
    "}\n",
    "\n",
    "sales_data = pd.DataFrame(data)\n",
    "\n",
    "# Display the first few rows of the dataset\n",
    "print(\"Sales Data:\")\n",
    "print(sales_data)"
   ]
  },
  {
   "cell_type": "code",
   "execution_count": 19,
   "id": "d601ded4-2b3b-4bfe-8b1a-589905cc7cf3",
   "metadata": {},
   "outputs": [],
   "source": [
    "# Save the DataFrame as a CSV file\n",
    "sales_data.to_csv('sales_data.csv', index=False)"
   ]
  },
  {
   "cell_type": "code",
   "execution_count": 20,
   "id": "e271e8e6-6924-4e06-a3df-733cd2f21aef",
   "metadata": {},
   "outputs": [
    {
     "data": {
      "text/plain": [
       "'C:\\\\Users\\\\rejas\\\\Desktop\\\\Prakash Senapati sir\\\\Prakash Senapati lab'"
      ]
     },
     "execution_count": 20,
     "metadata": {},
     "output_type": "execute_result"
    }
   ],
   "source": [
    "# path location\n",
    "import os\n",
    "os.getcwd()"
   ]
  },
  {
   "cell_type": "code",
   "execution_count": 21,
   "id": "996a7ad5-305c-4c1e-b94e-872f8ddcf64e",
   "metadata": {},
   "outputs": [],
   "source": [
    "#Step 3: Descriptive Statistics"
   ]
  },
  {
   "cell_type": "code",
   "execution_count": 22,
   "id": "a8789574-419a-436c-905c-608d3d685b05",
   "metadata": {},
   "outputs": [
    {
     "name": "stdout",
     "output_type": "stream",
     "text": [
      "\n",
      "Descriptive Statistics for Units Sold:\n",
      "count    20.000000\n",
      "mean     18.800000\n",
      "std       3.302312\n",
      "min      13.000000\n",
      "25%      17.000000\n",
      "50%      18.500000\n",
      "75%      21.000000\n",
      "max      25.000000\n",
      "Name: units_sold, dtype: float64\n",
      "\n",
      "Statistical Analysis:\n",
      "Mean Units Sold: 18.8\n",
      "Median Units Sold: 18.5\n",
      "Mode Units Sold: 17\n",
      "Variance of Units Sold: 10.905263157894737\n",
      "Standard Deviation of Units Sold: 3.302311789927586\n",
      "\n",
      "Category Statistics:\n",
      "      Category  Total Units Sold  Average Units Sold  Std Dev of Units Sold\n",
      "0     Clothing                21           21.000000                    NaN\n",
      "1  Electronics                73           18.250000               2.217356\n",
      "2         Home               181           20.111111               3.723051\n",
      "3       Sports               101           16.833333               2.714160\n"
     ]
    }
   ],
   "source": [
    "# Descriptive statistics\n",
    "descriptive_stats = sales_data['units_sold'].describe()\n",
    "\n",
    "# Display descriptive statistics\n",
    "print(\"\\nDescriptive Statistics for Units Sold:\")\n",
    "print(descriptive_stats)\n",
    "\n",
    "# Additional statistics\n",
    "mean_sales = sales_data['units_sold'].mean()\n",
    "median_sales = sales_data['units_sold'].median()\n",
    "mode_sales = sales_data['units_sold'].mode()[0]\n",
    "variance_sales = sales_data['units_sold'].var()\n",
    "std_deviation_sales = sales_data['units_sold'].std()\n",
    "\n",
    "# Group by category and calculate total and average sales\n",
    "category_stats = sales_data.groupby('category')['units_sold'].agg(['sum', 'mean', 'std']).reset_index()\n",
    "category_stats.columns = ['Category', 'Total Units Sold', 'Average Units Sold', 'Std Dev of Units Sold']\n",
    "\n",
    "# Display the results\n",
    "print(\"\\nStatistical Analysis:\")\n",
    "print(f\"Mean Units Sold: {mean_sales}\")\n",
    "print(f\"Median Units Sold: {median_sales}\")\n",
    "print(f\"Mode Units Sold: {mode_sales}\")\n",
    "print(f\"Variance of Units Sold: {variance_sales}\")\n",
    "print(f\"Standard Deviation of Units Sold: {std_deviation_sales}\")\n",
    "print(\"\\nCategory Statistics:\")\n",
    "print(category_stats)"
   ]
  },
  {
   "cell_type": "code",
   "execution_count": 23,
   "id": "212b4973-2513-451f-85ce-e720658cc2e1",
   "metadata": {},
   "outputs": [],
   "source": [
    "#Step 4: Inferential Statistics"
   ]
  },
  {
   "cell_type": "code",
   "execution_count": 24,
   "id": "c78ed165-95cc-4677-ac84-4b8868694566",
   "metadata": {},
   "outputs": [
    {
     "name": "stdout",
     "output_type": "stream",
     "text": [
      "\n",
      "Confidence Interval for the Mean of Units Sold:\n",
      "(17.254470507823573, 20.34552949217643)\n"
     ]
    }
   ],
   "source": [
    "# Confidence Interval for the mean of units sold\n",
    "confidence_level = 0.95\n",
    "degrees_freedom = len(sales_data['units_sold']) - 1\n",
    "sample_mean = mean_sales\n",
    "sample_standard_error = std_deviation_sales / np.sqrt(len(sales_data['units_sold']))\n",
    "\n",
    "# t-score for the confidence level\n",
    "t_score = stats.t.ppf((1 + confidence_level) / 2, degrees_freedom)\n",
    "margin_of_error = t_score * sample_standard_error\n",
    "\n",
    "confidence_interval = (sample_mean - margin_of_error, sample_mean + margin_of_error)\n",
    "print(\"\\nConfidence Interval for the Mean of Units Sold:\")\n",
    "print(confidence_interval)"
   ]
  },
  {
   "cell_type": "code",
   "execution_count": 25,
   "id": "cbc3a7a1-9bd6-4103-82d3-544d09edce4d",
   "metadata": {},
   "outputs": [],
   "source": [
    "#Hypothesis Testing"
   ]
  },
  {
   "cell_type": "code",
   "execution_count": 26,
   "id": "b1f86d3b-1a35-4b01-b5a0-994c4e78caf9",
   "metadata": {},
   "outputs": [
    {
     "name": "stdout",
     "output_type": "stream",
     "text": [
      "\n",
      "Hypothesis Testing (t-test):\n",
      "T-statistic: -1.6250928099424466, P-value: 0.12061572226781002\n",
      "Fail to reject the null hypothesis: The mean units sold is not significantly different from 20.\n"
     ]
    }
   ],
   "source": [
    "# Hypothesis Testing (t-test)\n",
    "# Null hypothesis: Mean units sold is equal to 20\n",
    "# Alternative hypothesis: Mean units sold is not equal to 20\n",
    "\n",
    "t_statistic, p_value = stats.ttest_1samp(sales_data['units_sold'], 20)\n",
    "\n",
    "print(\"\\nHypothesis Testing (t-test):\")\n",
    "print(f\"T-statistic: {t_statistic}, P-value: {p_value}\")\n",
    "\n",
    "if p_value < 0.05:\n",
    "    print(\"Reject the null hypothesis: The mean units sold is significantly different from 20.\")\n",
    "else:\n",
    "    print(\"Fail to reject the null hypothesis: The mean units sold is not significantly different from 20.\")"
   ]
  },
  {
   "cell_type": "code",
   "execution_count": 27,
   "id": "3936b27c-b390-41ab-bb06-1b5f5cf74405",
   "metadata": {},
   "outputs": [],
   "source": [
    "#Step 5: Visualizations"
   ]
  },
  {
   "cell_type": "code",
   "execution_count": 29,
   "id": "f2ef6927-e570-49dd-b03e-417ca1f233f9",
   "metadata": {},
   "outputs": [],
   "source": [
    "# Visualizations\n",
    "sns.set(style=\"whitegrid\")\n",
    "\n",
    "# Plot distribution of units sold\n",
    "plt.figure(figsize=(10, 6))\n",
    "sns.histplot(sales_data['units_sold'], bins=10, kde=True)\n",
    "plt.title('Distribution of Units Sold')\n",
    "plt.xlabel('Units Sold')\n",
    "plt.ylabel('Frequency')\n",
    "plt.axvline(mean_sales, color='red', linestyle='--', label='Mean')\n",
    "plt.axvline(median_sales, color='blue', linestyle='--', label='Median')\n",
    "plt.axvline(mode_sales, color='green', linestyle='--', label='Mode')\n",
    "plt.legend()\n",
    "plt.show()"
   ]
  },
  {
   "cell_type": "code",
   "execution_count": null,
   "id": "05a7411c-9485-4f5e-a858-6ae72f5b1fe2",
   "metadata": {},
   "outputs": [],
   "source": [
    "# Boxplot for units sold by category\n",
    "plt.figure(figsize=(10, 6))\n",
    "sns.boxplot(x='category', y='units_sold', data=sales_data)\n",
    "plt.title('Boxplot of Units Sold by Category')\n",
    "plt.xlabel('Category')\n",
    "plt.ylabel('Units Sold')\n",
    "plt.show()"
   ]
  },
  {
   "cell_type": "code",
   "execution_count": null,
   "id": "13107d90-b4c6-4e0b-992c-649026dbbe08",
   "metadata": {},
   "outputs": [],
   "source": [
    "# Bar plot for total units sold by category\n",
    "plt.figure(figsize=(10, 6))\n",
    "sns.barplot(x='Category', y='Total Units Sold', data=category_stats)\n",
    "plt.title('Total Units Sold by Category')\n",
    "plt.xlabel('Category')\n",
    "plt.ylabel('Total Units Sold')\n",
    "plt.show()"
   ]
  }
 ],
 "metadata": {
  "kernelspec": {
   "display_name": "Python 3 (ipykernel)",
   "language": "python",
   "name": "python3"
  },
  "language_info": {
   "codemirror_mode": {
    "name": "ipython",
    "version": 3
   },
   "file_extension": ".py",
   "mimetype": "text/x-python",
   "name": "python",
   "nbconvert_exporter": "python",
   "pygments_lexer": "ipython3",
   "version": "3.11.3"
  }
 },
 "nbformat": 4,
 "nbformat_minor": 5
}
